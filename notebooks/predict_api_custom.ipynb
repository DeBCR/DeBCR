{
 "cells": [
  {
   "cell_type": "markdown",
   "id": "a18d1165-e073-4f10-a87b-3a8a5e8d0f9c",
   "metadata": {
    "editable": true,
    "slideshow": {
     "slide_type": ""
    },
    "tags": []
   },
   "source": [
    "# DeBCR API tutorial\n",
    "## Predict from custom data/weights"
   ]
  },
  {
   "cell_type": "code",
   "execution_count": null,
   "id": "667cf419-e384-472a-bd7f-d7bcf00b76fe",
   "metadata": {},
   "outputs": [],
   "source": [
    "import os\n",
    "import numpy as np\n",
    "\n",
    "import debcr"
   ]
  },
  {
   "cell_type": "markdown",
   "id": "0cfcb907-3c0f-4897-ae97-b2a03e0cf7a8",
   "metadata": {},
   "source": [
    "## Load custom trained model"
   ]
  },
  {
   "cell_type": "code",
   "execution_count": null,
   "id": "69d6d792-7964-46c1-8c7a-60074d30a823",
   "metadata": {},
   "outputs": [],
   "source": [
    "weights_path = '/path/to/custom/weights'\n",
    "weights_path"
   ]
  },
  {
   "cell_type": "code",
   "execution_count": null,
   "id": "ff706742-d8e0-451d-8935-499ef5b01b21",
   "metadata": {},
   "outputs": [],
   "source": [
    "debcr_model = debcr.model.init(weights_path)"
   ]
  },
  {
   "cell_type": "code",
   "execution_count": null,
   "id": "bbd521f2-7d8e-480d-bb34-555eb3e98300",
   "metadata": {},
   "outputs": [],
   "source": [
    "# show TensorFlow model info \n",
    "debcr_model.summary()"
   ]
  },
  {
   "cell_type": "markdown",
   "id": "d02012c1-9181-42ce-bf54-604cc37153b4",
   "metadata": {},
   "source": [
    "## Load and prepare custom data"
   ]
  },
  {
   "cell_type": "code",
   "execution_count": null,
   "id": "d429c08c-49fc-460e-8502-fe1d31043bbc",
   "metadata": {},
   "outputs": [],
   "source": [
    "dataset_path = '/path/to/custom/data'\n",
    "dataset_path"
   ]
  },
  {
   "cell_type": "code",
   "execution_count": null,
   "id": "7bf12b81-0c5f-4a2f-bfcf-a5bacb3de2c3",
   "metadata": {},
   "outputs": [],
   "source": [
    "test_tiff = 'EXP278_Smed_fixed_RedDot1_sub_5_N7_m0010.tif'\n",
    "test_tiff_path = f'{dataset_path}/condition_1/{test_tiff}'\n",
    "test_tiff_path"
   ]
  },
  {
   "cell_type": "code",
   "execution_count": null,
   "id": "e4334909-620f-4530-9776-32bccdbce456",
   "metadata": {},
   "outputs": [],
   "source": [
    "data_raw = debcr.data.load(test_tiff_path)\n",
    "data_raw.shape"
   ]
  },
  {
   "cell_type": "code",
   "execution_count": null,
   "id": "f8418352-3a95-4d25-a422-2e54823f8a80",
   "metadata": {},
   "outputs": [],
   "source": [
    "# slice data if whole dataset is too huge\n",
    "# you will need ~4x data_size of RAM to run code below \n",
    "use_slices = range(35,56)"
   ]
  },
  {
   "cell_type": "code",
   "execution_count": null,
   "id": "c2210320-ecfc-4b01-a060-fba306c07371",
   "metadata": {},
   "outputs": [],
   "source": [
    "data_prep = debcr.data.prepare(data_raw[use_slices,...])\n",
    "data_prep.shape"
   ]
  },
  {
   "cell_type": "code",
   "execution_count": null,
   "id": "7de71cf7-bccb-4f70-872e-147b6b89c651",
   "metadata": {},
   "outputs": [],
   "source": [
    "del data_raw"
   ]
  },
  {
   "cell_type": "markdown",
   "id": "f9291d8c-1285-4a05-b69a-7f6a1842005d",
   "metadata": {},
   "source": [
    "## Run prediciton"
   ]
  },
  {
   "cell_type": "code",
   "execution_count": null,
   "id": "677cf780-0651-4396-bb10-7c3081cc5701",
   "metadata": {},
   "outputs": [],
   "source": [
    "data_pred = debcr.model.predict(debcr_model, data_prep)\n",
    "data_pred.shape"
   ]
  },
  {
   "cell_type": "markdown",
   "id": "df7de11e-2a9e-4105-afc8-e694ec9d863f",
   "metadata": {
    "editable": true,
    "slideshow": {
     "slide_type": ""
    },
    "tags": []
   },
   "source": [
    "## Visualize prediction"
   ]
  },
  {
   "cell_type": "code",
   "execution_count": null,
   "id": "061b5888-cfe8-4d11-9770-b98036abaf88",
   "metadata": {},
   "outputs": [],
   "source": [
    "# repeat preparation for GT data for comparable \n",
    "gt_tiff_path = f'{dataset_path}/GT/{test_tiff}'\n",
    "data_gt_raw = debcr.data.load(gt_tiff_path)\n",
    "data_gt_raw.shape"
   ]
  },
  {
   "cell_type": "code",
   "execution_count": null,
   "id": "a76305cf-f284-40ff-a2a6-153d4ea054b3",
   "metadata": {},
   "outputs": [],
   "source": [
    "data_gt = debcr.data.prepare(data_gt_raw[use_slices,...])\n",
    "data_gt.shape"
   ]
  },
  {
   "cell_type": "code",
   "execution_count": null,
   "id": "7c3dba92-52c4-4667-8705-e48092339fbf",
   "metadata": {
    "editable": true,
    "slideshow": {
     "slide_type": ""
    },
    "tags": []
   },
   "outputs": [],
   "source": [
    "del data_gt_raw"
   ]
  },
  {
   "cell_type": "code",
   "execution_count": null,
   "id": "c8831711-1c6c-44ec-8372-dc9d5b777cbb",
   "metadata": {
    "editable": true,
    "slideshow": {
     "slide_type": ""
    },
    "tags": []
   },
   "outputs": [],
   "source": [
    "import random\n",
    "from debcr._core.show_utils import subShow3\n",
    "\n",
    "slice_num = random.randint(0, data_pred.shape[0]-1)\n",
    "subShow3(data_prep[slice_num].squeeze(), data_pred[slice_num].squeeze(), data_gt[slice_num].squeeze())\n",
    "print(slice_num)"
   ]
  }
 ],
 "metadata": {
  "kernelspec": {
   "display_name": "Python 3 (ipykernel)",
   "language": "python",
   "name": "python3"
  },
  "language_info": {
   "codemirror_mode": {
    "name": "ipython",
    "version": 3
   },
   "file_extension": ".py",
   "mimetype": "text/x-python",
   "name": "python",
   "nbconvert_exporter": "python",
   "pygments_lexer": "ipython3",
   "version": "3.9.21"
  }
 },
 "nbformat": 4,
 "nbformat_minor": 5
}
