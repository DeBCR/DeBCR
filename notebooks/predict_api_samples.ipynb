{
 "cells": [
  {
   "cell_type": "markdown",
   "id": "a18d1165-e073-4f10-a87b-3a8a5e8d0f9c",
   "metadata": {
    "editable": true,
    "slideshow": {
     "slide_type": ""
    },
    "tags": []
   },
   "source": [
    "# DeBCR API tutorial\n",
    "## Predict from sample data/weights"
   ]
  },
  {
   "cell_type": "code",
   "execution_count": null,
   "id": "667cf419-e384-472a-bd7f-d7bcf00b76fe",
   "metadata": {},
   "outputs": [],
   "source": [
    "import os\n",
    "import numpy as np\n",
    "\n",
    "import debcr"
   ]
  },
  {
   "cell_type": "markdown",
   "id": "0809c29a-2c56-44f7-b5eb-f1c12eefbc08",
   "metadata": {},
   "source": [
    "### Fetch samples (data and weights)"
   ]
  },
  {
   "cell_type": "code",
   "execution_count": null,
   "id": "5b712eb3-9544-4a60-bcaf-f1c062db576b",
   "metadata": {},
   "outputs": [],
   "source": [
    "samples_path = '/path/to/debcr_samples'\n",
    "samples_path"
   ]
  },
  {
   "cell_type": "code",
   "execution_count": null,
   "id": "aff0cdc9-dc07-4ea8-bf6f-7c281788d1f4",
   "metadata": {},
   "outputs": [],
   "source": [
    "# Choose dataset from FM_CARE_2D, FM_CARE_3D, CF_STED_FActin, WF_SIM_S.aureus\n",
    "dataset_name = 'FM_CARE_2D'\n",
    "\n",
    "# implement !!!\n",
    "# dataset_path = debcr.data.fetch_samples(samples_path, dataset_name)\n",
    "\n",
    "dataset_path = f'{samples_path}/{dataset_name}'\n",
    "dataset_path"
   ]
  },
  {
   "cell_type": "markdown",
   "id": "d02012c1-9181-42ce-bf54-604cc37153b4",
   "metadata": {},
   "source": [
    "### Load sample data"
   ]
  },
  {
   "cell_type": "code",
   "execution_count": null,
   "id": "5ca2487e-7850-46fd-92bd-d6bcff1cf691",
   "metadata": {},
   "outputs": [],
   "source": [
    "# Choose subset from test, train, val\n",
    "subset = 'val'\n",
    "\n",
    "data_path = f'{dataset_path}/data/{dataset_name}_{subset}.npz'\n",
    "data_path"
   ]
  },
  {
   "cell_type": "code",
   "execution_count": null,
   "id": "d2337f8f-1cf5-48f0-bc97-0138a95c8d60",
   "metadata": {},
   "outputs": [],
   "source": [
    "data = debcr.data.load(data_path)\n",
    "\n",
    "# npz can store multiple arrays as .files\n",
    "data.files"
   ]
  },
  {
   "cell_type": "code",
   "execution_count": null,
   "id": "d19e3092-63f5-4545-92b6-385a20ac99e1",
   "metadata": {},
   "outputs": [],
   "source": [
    "# We provide two arrays: \n",
    "# gt  - groundtruth data\n",
    "# low - low-exposure data to be deblurred\n",
    "\n",
    "data['gt'].shape, data['low'].shape"
   ]
  },
  {
   "cell_type": "code",
   "execution_count": null,
   "id": "559d0f91-c2f9-4272-851c-a93f158bad6a",
   "metadata": {},
   "outputs": [],
   "source": [
    "# show sample data here ..."
   ]
  },
  {
   "cell_type": "markdown",
   "id": "0cfcb907-3c0f-4897-ae97-b2a03e0cf7a8",
   "metadata": {},
   "source": [
    "### Load trained model"
   ]
  },
  {
   "cell_type": "code",
   "execution_count": null,
   "id": "69d6d792-7964-46c1-8c7a-60074d30a823",
   "metadata": {},
   "outputs": [],
   "source": [
    "weights_path = f'{dataset_path}/weights'\n",
    "weights_path"
   ]
  },
  {
   "cell_type": "code",
   "execution_count": null,
   "id": "ff706742-d8e0-451d-8935-499ef5b01b21",
   "metadata": {},
   "outputs": [],
   "source": [
    "debcr_model = debcr.model.init(weights_path)"
   ]
  },
  {
   "cell_type": "code",
   "execution_count": null,
   "id": "bbd521f2-7d8e-480d-bb34-555eb3e98300",
   "metadata": {},
   "outputs": [],
   "source": [
    "# show TensorFlow model info \n",
    "debcr_model.summary()"
   ]
  },
  {
   "cell_type": "markdown",
   "id": "b2b051b4-7859-47ae-9f78-64ca2b0a85c3",
   "metadata": {},
   "source": [
    "### Run prediction"
   ]
  },
  {
   "cell_type": "code",
   "execution_count": null,
   "id": "9924cfac-1ef8-4838-b71d-58ad35e5ec3e",
   "metadata": {},
   "outputs": [],
   "source": [
    "data_pred = debcr.model.predict(debcr_model, data['low'])\n",
    "data_pred.shape"
   ]
  },
  {
   "cell_type": "markdown",
   "id": "716f514e-d5f4-480a-8eb4-a315d4ea4de9",
   "metadata": {},
   "source": [
    "### Visualize prediction"
   ]
  },
  {
   "cell_type": "code",
   "execution_count": null,
   "id": "01e44a76-8a46-4ac5-b85a-1ed9b2c55390",
   "metadata": {},
   "outputs": [],
   "source": [
    "import random\n",
    "from debcr._core.show_utils import subShow3\n",
    "\n",
    "slice_num = random.randint(0, data_pred.shape[0]-1)\n",
    "subShow3(data['low'][slice_num].squeeze(), data_pred[slice_num].squeeze(), data['gt'][slice_num].squeeze())\n",
    "print(slice_num)"
   ]
  }
 ],
 "metadata": {
  "kernelspec": {
   "display_name": "Python 3 (ipykernel)",
   "language": "python",
   "name": "python3"
  },
  "language_info": {
   "codemirror_mode": {
    "name": "ipython",
    "version": 3
   },
   "file_extension": ".py",
   "mimetype": "text/x-python",
   "name": "python",
   "nbconvert_exporter": "python",
   "pygments_lexer": "ipython3",
   "version": "3.9.21"
  }
 },
 "nbformat": 4,
 "nbformat_minor": 5
}
